{
 "cells": [
  {
   "cell_type": "markdown",
   "metadata": {
    "collapsed": false
   },
   "source": [
    "# PHY328 Final Project\n",
    "### deadline: 28/5/2021\n",
    "\n",
    "For your final project we will put together everything we have learned so far.\n",
    "\n",
    "From the motion of stars near the centre of our Galaxy, we know that there is a supermassive black hole at its centre, weighing nearly 4.1 million times the mass of our Sun. For their role in discovering this black hole, Andrea Ghez and Reinhard Genzel were awarded the 2020 Nobel Prize in Physics.\n",
    "\n",
    "Supermassive black holes also solve the mystery of Quasars. A Quasar, which is short for Quasi-Stellar Object (QSO) are an extremely bright type of galaxy, with a central region that outshines the entire galaxy. We believe that quasars are caused by the accretion of gas from the galaxy onto a supermassive black hole at its centre.\n",
    "\n",
    "Indeed, we now think that **all** galaxies host a supermassive black hole [(King et al 2003)](https://ui.adsabs.harvard.edu/abs/2003ApJ...596L..27K), but that the difference between quasars and ordinary galaxies is whether the black hole is accreting or not.\n",
    "\n",
    "In your project, you will use data derived from pictures of the night sky to classify galaxies in to quasars and ordinary galaxies. If you want to know more about the background, read the [popular science background](https://www.nobelprize.org/uploads/2020/10/popular-physicsprize2020-1.pdf) to the 2020 Nobel Prize.\n",
    "\n",
    "## The Data\n",
    "\n",
    "The Sloan Digital Sky Survey [(SDSS)](https://www.sdss.org) is a project designed to survey as much of the sky as possible. It obtains both images and spectra.\n",
    "\n",
    "When imaging the night sky, SDSS takes pictures through as series of coloured *filters*, measuring the brightness of every object in each filter. The filters are shown below:\n",
    "\n",
    "![sdss filters](images/sdss_filters.png)\n",
    "\n",
    "The dataset provided (`data/SDSS_galaxies.csv`) contains the brightness of galaxies in each filter, as measured by the SDSS. It also contains the classification of each galaxy as either a normal galaxy, or a QSO. Your task is to use the **colours** of objects in the SDSS, to train a ML algorithm to recognise QSOs.\n",
    "\n",
    "#### Aside: astronomical fluxes and colours\n",
    "\n",
    "Astronomers use weird units. The brightness measurements in the dataset are in units called *magnitudes*. A magnitude in a given filter is related to the flux in that filter by:\n",
    "\n",
    "$$m_{x} = -2.5 \\log_{10} \\frac{F_{x}}{3631},$$\n",
    "\n",
    "where $F_{x}$ is the flux in a filter $X$, measured in units of milli-Jansky, instead of something sensible like $\\rm{W}\\,{\\rm m}^{-2}\\,\\rm{Hz}^{-1}$. In astronomy, a **colour** refers to the difference between two magnitudes, e.g.:\n",
    "\n",
    "$$u-g \\equiv m_u - m_g = -2.5 \\log_{10} \\frac{F_u}{F_g}.$$\n",
    "\n",
    "\n",
    "#### Data issues:\n",
    "\n",
    "The dataset contains some of the issues you might find in real-world datasets, for example the different colours may have very different means and variances, and there are very different numbers of galaxies and quasars (i.e it is an **unbalanced** dataset)."
   ]
  },
  {
   "cell_type": "markdown",
   "metadata": {
    "collapsed": false
   },
   "source": [
    "-------\n",
    "\n",
    "# The Assignment\n",
    "\n",
    "Perform any necessary feature engineering required to prepare your dataset for classification. \n",
    "\n",
    "**Code your own Neural Network** and apply it, with an appropriate design, to classify objects into galaxies and QSOs based upon their colour. Compare the performance of your network to a random forest classifier.\n",
    "\n",
    "Use any appropriate metrics to decide upon the appropriate hyper-parameters for your classifiers and to compare the performance of the two approaches.\n",
    "\n",
    "Your report should take the form of a Jupyter notebook that explains your methodology, your results and discusses the performance of the two approaches. \n",
    "\n",
    "The notebook should be clean and readable. Supporting Python code and tests should be contained within seperate module (`.py`) files where appropriate.\n",
    "\n",
    "---------\n",
    "\n",
    "# Assessment\n",
    "\n",
    "Your project will be assessed on the quality of your code, both in the notebook and accompanying module files. It will also be assessed on the quality of your results, the choices you make in training and the discussion of your results. See the rubric for full details."
   ]
  },
  {
   "cell_type": "code",
   "execution_count": 0,
   "metadata": {
    "collapsed": false
   },
   "outputs": [
   ],
   "source": [
   ]
  }
 ],
 "metadata": {
  "kernelspec": {
   "argv": [
    "/usr/bin/python3",
    "-m",
    "ipykernel",
    "--HistoryManager.enabled=False",
    "--matplotlib=inline",
    "-c",
    "%config InlineBackend.figure_formats = set(['retina'])\nimport matplotlib; matplotlib.rcParams['figure.figsize'] = (12, 7)",
    "-f",
    "{connection_file}"
   ],
   "display_name": "Python 3 (system-wide)",
   "env": {
   },
   "language": "python",
   "metadata": {
    "cocalc": {
     "description": "Python 3 programming language",
     "priority": 100,
     "url": "https://www.python.org/"
    }
   },
   "name": "python3",
   "resource_dir": "/ext/jupyter/kernels/python3"
  },
  "language_info": {
   "codemirror_mode": {
    "name": "ipython",
    "version": 3
   },
   "file_extension": ".py",
   "mimetype": "text/x-python",
   "name": "python",
   "nbconvert_exporter": "python",
   "pygments_lexer": "ipython3",
   "version": "3.8.8"
  }
 },
 "nbformat": 4,
 "nbformat_minor": 4
}