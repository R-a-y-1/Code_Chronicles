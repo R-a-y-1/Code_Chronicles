{
 "cells": [
  {
   "cell_type": "markdown",
   "metadata": {
    "collapsed": false
   },
   "source": [
    "# The approximate scales used for each category are :\n",
    "\n",
    "### Correctness (50%)\n",
    "|%   | Requirement\n",
    "|----|------------\n",
    "|80-100% |Code produces correct results and is well tested\n",
    "|65-80%  |Code is correct, partially tested\n",
    "|55-65%  |Code is correct, not tested\n",
    "|10-55%  |Code runs, but incorrect results.\n",
    "|0-10%   |Code does not run.\n",
    "\n",
    "### Style (30%)\n",
    "|%       | Requirement\n",
    "|--------|------------\n",
    "|75-100% |Well designed, understandable code. Uses functions, classes, inheritance.\n",
    "|60-75%  |Well designed, clear code. Could use more advanced language features.\n",
    "|40-60%  |OK design. Little use of functions etc. Hard to understand.\n",
    "|0-40%   |Incomprehensible/ \"spaghetti\" code. Hard to understand, needs multiple readings.\n",
    "\n",
    "### Comments (20%)\n",
    "|%       | Requirement\n",
    "|--------|------------\n",
    "|75-100% |Concise, well-formatted comments. Functions documented. Full and Clear explanations in markdown\n",
    "|40-75%  |Partial, poorly written, muddled comments. Unclear markdown explanations.\n",
    "|0-40%   |No comments at all. No markdown explanations."
   ]
  }
 ],
 "metadata": {
  "kernelspec": {
   "argv": [
    "/usr/bin/python3",
    "-m",
    "ipykernel",
    "--HistoryManager.enabled=False",
    "--matplotlib=inline",
    "-c",
    "%config InlineBackend.figure_formats = set(['retina'])\nimport matplotlib; matplotlib.rcParams['figure.figsize'] = (12, 7)",
    "-f",
    "{connection_file}"
   ],
   "display_name": "Python 3 (system-wide)",
   "env": {
   },
   "language": "python",
   "metadata": {
    "cocalc": {
     "description": "Python 3 programming language",
     "priority": 100,
     "url": "https://www.python.org/"
    }
   },
   "name": "python3",
   "resource_dir": "/ext/jupyter/kernels/python3"
  },
  "language_info": {
   "codemirror_mode": {
    "name": "ipython",
    "version": 3
   },
   "file_extension": ".py",
   "mimetype": "text/x-python",
   "name": "python",
   "nbconvert_exporter": "python",
   "pygments_lexer": "ipython3",
   "version": "3.8.8"
  }
 },
 "nbformat": 4,
 "nbformat_minor": 4
}