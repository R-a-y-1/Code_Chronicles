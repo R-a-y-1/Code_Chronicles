{
 "cells": [
  {
   "cell_type": "markdown",
   "metadata": {},
   "source": [
    "# The approximate scales used for each category are :\n",
    "\n",
    "### Correctness (40%)\n",
    "|%   | Requirement\n",
    "|----|------------\n",
    "|80-100% |Code produces correct results. Results are well understood and explained.\n",
    "|65-80%  |Code is correct. Results are understood at a superficial level and explained.\n",
    "|55-65%  |Code is correct. Results are taken at face value.\n",
    "|10-55%  |Code runs, but incorrect results.\n",
    "|0-10%   |Code does not run.\n",
    "\n",
    "### Style (30%)\n",
    "|%       | Requirement\n",
    "|--------|------------\n",
    "|75-100% |Well designed, understandable code. Uses functions, classes, inheritance, etc.\n",
    "|60-75%  |Well designed, clear code. Could use more advanced language features.\n",
    "|40-60%  |OK design. Little use of functions etc. Hard to understand.\n",
    "|0-40%   |Incomprehensible/ \"spaghetti\" code. Hard to understand, needs multiple readings.\n",
    "\n",
    "### Comments and Explanations (30%)\n",
    "|%       | Requirement\n",
    "|--------|------------\n",
    "|75-100% |Complete, Concise, meaningful, well-formatted comments and markdown explanations. Functions documented.\n",
    "|40-75%  |Partial,  poorly written, incorrect, confusing comments. Markdown explanations not correct or confused.\n",
    "|0-40%      |No comments at all."
   ]
  }
 ],
 "metadata": {
  "kernelspec": {
   "display_name": "Python 3",
   "language": "python",
   "name": "python3"
  },
  "language_info": {
   "codemirror_mode": {
    "name": "ipython",
    "version": 3
   },
   "file_extension": ".py",
   "mimetype": "text/x-python",
   "name": "python",
   "nbconvert_exporter": "python",
   "pygments_lexer": "ipython3",
   "version": "3.8.8"
  }
 },
 "nbformat": 4,
 "nbformat_minor": 4
}
